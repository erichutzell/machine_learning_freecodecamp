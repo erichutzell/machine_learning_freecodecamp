{
 "cells": [
  {
   "cell_type": "markdown",
   "id": "09ece477",
   "metadata": {},
   "source": [
    "## Core Learning Algorithms\n",
    "    "
   ]
  },
  {
   "cell_type": "markdown",
   "id": "5858c94a",
   "metadata": {},
   "source": [
    "### Setup and Imports"
   ]
  },
  {
   "cell_type": "markdown",
   "id": "deb25959",
   "metadata": {},
   "source": [
    "#### Install packages if needed"
   ]
  },
  {
   "cell_type": "code",
   "execution_count": null,
   "id": "ab0e6665",
   "metadata": {},
   "outputs": [],
   "source": [
    "##!pip install -q sklearn\n",
    "##!pip install future\n",
    "##!pip install IPython\n"
   ]
  },
  {
   "cell_type": "code",
   "execution_count": null,
   "id": "3604dea8",
   "metadata": {
    "scrolled": false
   },
   "outputs": [],
   "source": [
    "%tensorflow_version 2.x"
   ]
  },
  {
   "cell_type": "markdown",
   "id": "6017b6d0",
   "metadata": {},
   "source": [
    "#### Import packages"
   ]
  },
  {
   "cell_type": "code",
   "execution_count": null,
   "id": "b7baacf3",
   "metadata": {},
   "outputs": [],
   "source": [
    "from __future__ import (absolute_import, division,\n",
    "                        print_function, unicode_literals)\n",
    "\n",
    "import numpy as np\n",
    "import matplotlib.pyplot as plt\n",
    "import pandas as pd\n",
    "\n",
    "import tensorflow.compat.v2.feature_column as fc\n",
    "import tensorflow as tf\n",
    "\n",
    "from IPython.display import clear_output\n",
    "from six.moves import urllib\n"
   ]
  },
  {
   "cell_type": "markdown",
   "id": "f363d41f",
   "metadata": {},
   "source": [
    "### Training and testing Data\n"
   ]
  },
  {
   "cell_type": "code",
   "execution_count": null,
   "id": "9bfa9122",
   "metadata": {
    "scrolled": true
   },
   "outputs": [],
   "source": [
    "# Load Datasets\n",
    "\n",
    "dftrain = pd.read_csv('https://storage.googleapis.com/tf-datasets/titanic/train.csv') # training data\n",
    "dfeval = pd.read_csv('https://storage.googleapis.com/tf-datasets/titanic/eval.csv') # testing data\n",
    "\n",
    "# Preprocess data\n",
    "y_train = dftrain.pop('survived')\n",
    "y_eval = dfeval.pop('survived')\n",
    "\n",
    "CATEGORICAL_COLUMNS = ('sex', 'n_siblings_spouses', 'parch', 'class', 'deck',\n",
    "                       'embark_town', 'alone')\n",
    "\n",
    "NUMERICAL_COLUMNS = ('age', 'fare')\n",
    "\n",
    "feature_columns = []\n",
    "for feature_name in CATEGORICAL_COLUMNS:\n",
    "    vocabulary = dftrain[feature_name].unique() # gets a list of all unique values from given feature column\n",
    "    feature_columns.append(tf.feature_column.categorical_column_with_vocabulary_list\n",
    "                           (feature_name, vocabulary))\n",
    "    \n",
    "for feature_name in NUMERICAL_COLUMNS:\n",
    "    feature_columns.append(tf.feature_column.numeric_column(feature_name, dtype=tf.float32))\n",
    "    \n",
    "print(feature_columns)\n",
    "    \n",
    "\n",
    "\n",
    "\n",
    "\n",
    "\n",
    "\n",
    "\n",
    "\n"
   ]
  },
  {
   "cell_type": "code",
   "execution_count": null,
   "id": "9b7f7125",
   "metadata": {
    "scrolled": true
   },
   "outputs": [],
   "source": [
    "dftrain[\"embark_town\"].unique() # get unique values of fields"
   ]
  },
  {
   "cell_type": "markdown",
   "id": "e554d184",
   "metadata": {},
   "source": [
    "##### Compare and print first row"
   ]
  },
  {
   "cell_type": "code",
   "execution_count": null,
   "id": "c1a08d2e",
   "metadata": {},
   "outputs": [],
   "source": [
    "print(dftrain.loc[0], y_train.loc[0])"
   ]
  },
  {
   "cell_type": "markdown",
   "id": "17fc414e",
   "metadata": {},
   "source": [
    "#### Explore data"
   ]
  },
  {
   "cell_type": "code",
   "execution_count": null,
   "id": "8e9230c2",
   "metadata": {},
   "outputs": [],
   "source": [
    "dftrain.head()"
   ]
  },
  {
   "cell_type": "code",
   "execution_count": null,
   "id": "476a5dac",
   "metadata": {},
   "outputs": [],
   "source": [
    "dftrain.describe()"
   ]
  },
  {
   "cell_type": "code",
   "execution_count": null,
   "id": "f34f1df6",
   "metadata": {},
   "outputs": [],
   "source": [
    "dftrain.shape"
   ]
  },
  {
   "cell_type": "code",
   "execution_count": null,
   "id": "858d6460",
   "metadata": {},
   "outputs": [],
   "source": [
    "y_train.head()"
   ]
  },
  {
   "cell_type": "code",
   "execution_count": null,
   "id": "09289d7b",
   "metadata": {},
   "outputs": [],
   "source": [
    "dftrain.age.hist(bins=20)"
   ]
  },
  {
   "cell_type": "code",
   "execution_count": null,
   "id": "f4350f1e",
   "metadata": {},
   "outputs": [],
   "source": [
    "dftrain.sex.value_counts().plot(kind='barh')"
   ]
  },
  {
   "cell_type": "code",
   "execution_count": null,
   "id": "d079a308",
   "metadata": {},
   "outputs": [],
   "source": [
    "dftrain['class'].value_counts().plot(kind='barh')"
   ]
  },
  {
   "cell_type": "code",
   "execution_count": null,
   "id": "ad5f1fe1",
   "metadata": {},
   "outputs": [],
   "source": [
    "pd.concat([dftrain, y_train], axis=1).groupby('sex').survived.mean().plot(kind='barh').set_xlabel('% survive')"
   ]
  },
  {
   "cell_type": "code",
   "execution_count": null,
   "id": "975b15c6",
   "metadata": {},
   "outputs": [],
   "source": [
    "dfeval.shape"
   ]
  },
  {
   "cell_type": "markdown",
   "id": "b4335e6e",
   "metadata": {},
   "source": [
    "## Training Process"
   ]
  },
  {
   "cell_type": "code",
   "execution_count": null,
   "id": "ee38e3ec",
   "metadata": {},
   "outputs": [],
   "source": [
    "def make_input_fn(data_df, label_df, num_epochs=10, shuffle=True, batch_size=32):\n",
    "  def input_function(): # inner function, this will be returned\n",
    "    ds = tf.data.Dataset.from_tensor_slices((dict(data_df), label_df)) # create tf.data.Dataset object \n",
    "                                                                       # with data at its label\n",
    "    if shuffle:\n",
    "      ds = ds.shuffle(1000) # randomise order of data \n",
    "    ds = ds.batch(batch_size).repeat(num_epochs) # split dataset into batches of 32 and \n",
    "                                                 # repeat process for number of epochss\n",
    "    return ds # return a batch of the dataset\n",
    "  return input_function # return a function object for use\n",
    "\n",
    "train_input_fn = make_input_fn(dftrain, y_train) # here we will call the input_function that was \n",
    "                                                 # returned to us to get a dataset object we can  \n",
    "                                                 # feed to the model\n",
    "eval_input_fn = make_input_fn(dfeval, y_eval, num_epochs=1, shuffle=False)\n",
    "\n",
    "\n",
    "\n"
   ]
  },
  {
   "cell_type": "markdown",
   "id": "22952cb5",
   "metadata": {},
   "source": [
    "## Creating the Model"
   ]
  },
  {
   "cell_type": "code",
   "execution_count": null,
   "id": "bca78d8f",
   "metadata": {},
   "outputs": [],
   "source": [
    "linear_est = tf.estimator.LinearClassifier(feature_columns=feature_columns)\n",
    "linear_est.train(train_input_fn) # train\n",
    "result = linear_est.evaluate(eval_input_fn) # get model metrics/stats by testing on testing data\n",
    "\n",
    "clear_output() # clears console output\n",
    "print(result['accuracy']) # the result variable is simply a dict of stats about our model\n",
    "print(result)"
   ]
  },
  {
   "cell_type": "code",
   "execution_count": null,
   "id": "9416c139",
   "metadata": {
    "scrolled": true
   },
   "outputs": [],
   "source": [
    "result = list(linear_est.predict(eval_input_fn))\n",
    "print(dfeval.loc[3])\n",
    "print(y_eval.loc[3])\n",
    "print(result[3]['probabilities'][0])"
   ]
  }
 ],
 "metadata": {
  "kernelspec": {
   "display_name": "Python 3 (ipykernel)",
   "language": "python",
   "name": "python3"
  },
  "language_info": {
   "codemirror_mode": {
    "name": "ipython",
    "version": 3
   },
   "file_extension": ".py",
   "mimetype": "text/x-python",
   "name": "python",
   "nbconvert_exporter": "python",
   "pygments_lexer": "ipython3",
   "version": "3.9.15"
  },
  "varInspector": {
   "cols": {
    "lenName": 16,
    "lenType": 16,
    "lenVar": 40
   },
   "kernels_config": {
    "python": {
     "delete_cmd_postfix": "",
     "delete_cmd_prefix": "del ",
     "library": "var_list.py",
     "varRefreshCmd": "print(var_dic_list())"
    },
    "r": {
     "delete_cmd_postfix": ") ",
     "delete_cmd_prefix": "rm(",
     "library": "var_list.r",
     "varRefreshCmd": "cat(var_dic_list()) "
    }
   },
   "types_to_exclude": [
    "module",
    "function",
    "builtin_function_or_method",
    "instance",
    "_Feature"
   ],
   "window_display": false
  }
 },
 "nbformat": 4,
 "nbformat_minor": 5
}
